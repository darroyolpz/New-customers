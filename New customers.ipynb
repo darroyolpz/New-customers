{
 "cells": [
  {
   "cell_type": "markdown",
   "metadata": {},
   "source": [
    "# Sales Evolution"
   ]
  },
  {
   "cell_type": "markdown",
   "metadata": {},
   "source": [
    "Import all the needed modules"
   ]
  },
  {
   "cell_type": "code",
   "execution_count": 1,
   "metadata": {},
   "outputs": [],
   "source": [
    "import pandas as pd\n",
    "import numpy as np\n",
    "from pandas import ExcelWriter"
   ]
  },
  {
   "cell_type": "markdown",
   "metadata": {},
   "source": [
    "Import sales db"
   ]
  },
  {
   "cell_type": "code",
   "execution_count": 2,
   "metadata": {},
   "outputs": [],
   "source": [
    "excel_file = 'Sales 2016-2020.xlsx'\n",
    "df = pd.read_excel(excel_file, usecols = ['Customer name','Salesp.Customer','Year',\n",
    "                                          'Country','Product group descr', 'Amount', 'Cost amount'])"
   ]
  },
  {
   "cell_type": "markdown",
   "metadata": {},
   "source": [
    "Create pivot_df"
   ]
  },
  {
   "cell_type": "code",
   "execution_count": 3,
   "metadata": {},
   "outputs": [],
   "source": [
    "salesp = df['Salesp.Customer'].unique()\n",
    "new_entry = []\n",
    "for person in salesp:\n",
    "    # Create pivot\n",
    "    df_sorted = df.loc[df['Salesp.Customer'] == person, :]\n",
    "    pivot_df = pd.pivot_table(df_sorted, values='Amount', index='Customer name', columns='Year', aggfunc=np.sum)\n",
    "    pivot_df = pivot_df.fillna(0)\n",
    "    pivot_df = pd.DataFrame(pivot_df.to_records())\n",
    "    \n",
    "    # New customers in 2020\n",
    "    try:\n",
    "        df_new_customer = pivot_df.loc[(pivot_df['2016']==0) & (pivot_df['2017']==0) &\n",
    "                                       (pivot_df['2018']==0) & (pivot_df['2019']==0) &\n",
    "                                       (pivot_df['2020']!=0), :]\n",
    "        df_new_customer=df_new_customer.sort_values(by='2020', ascending=False)\n",
    "        total_new_customers = df_new_customer['2020'].count()\n",
    "        amount_new_customers = df_new_customer['2020'].sum()\n",
    "                \n",
    "        # Export to Excel\n",
    "        name = 'New customers ' + person + '.xlsx'\n",
    "        df_new_customer.to_excel(name, index=False)\n",
    "        '''\n",
    "        print('Sales person:', person)\n",
    "        print('New customers:', total_new_customers)\n",
    "        print('Sales from new customers:', amount_new_customers)\n",
    "        print('\\n')\n",
    "        '''\n",
    "        new_entry.append([person, total_new_customers, amount_new_customers])\n",
    "    except:\n",
    "        next"
   ]
  },
  {
   "cell_type": "markdown",
   "metadata": {},
   "source": [
    "Summary"
   ]
  },
  {
   "cell_type": "code",
   "execution_count": 4,
   "metadata": {},
   "outputs": [],
   "source": [
    "cols = ['Salesp.Customer', 'New customers', 'Amount']\n",
    "summary = pd.DataFrame(new_entry, columns = cols)\n",
    "summary.to_excel('Summary.xlsx', index=False)"
   ]
  }
 ],
 "metadata": {
  "anaconda-cloud": {},
  "kernelspec": {
   "display_name": "Python 3",
   "language": "python",
   "name": "python3"
  },
  "language_info": {
   "codemirror_mode": {
    "name": "ipython",
    "version": 3
   },
   "file_extension": ".py",
   "mimetype": "text/x-python",
   "name": "python",
   "nbconvert_exporter": "python",
   "pygments_lexer": "ipython3",
   "version": "3.7.4"
  }
 },
 "nbformat": 4,
 "nbformat_minor": 2
}
